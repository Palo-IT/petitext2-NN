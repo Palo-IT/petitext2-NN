{
 "cells": [
  {
   "cell_type": "code",
   "execution_count": 1,
   "metadata": {},
   "outputs": [],
   "source": [
    "from interactive_gdpr import Process"
   ]
  },
  {
   "cell_type": "code",
   "execution_count": 2,
   "metadata": {},
   "outputs": [
    {
     "name": "stderr",
     "output_type": "stream",
     "text": [
      "03/09/2018 04:27:31 PM: [ CUDA enabled (GPU -1) ]\n",
      "03/09/2018 04:27:31 PM: [ Initializing pipeline... ]\n",
      "03/09/2018 04:27:31 PM: [ Initializing document ranker... ]\n",
      "03/09/2018 04:27:31 PM: [ Loading /home/ubuntu/spacework/DrQA/data/gdpr/gdpr_all_en_articles-tfidf-ngram=2-hash=16777216-tokenizer=simple.npz ]\n"
     ]
    },
    {
     "name": "stdout",
     "output_type": "stream",
     "text": [
      "retriever_model_arg: None\n",
      "DrQA: None\n"
     ]
    },
    {
     "name": "stderr",
     "output_type": "stream",
     "text": [
      "03/09/2018 04:27:32 PM: [ Initializing document reader... ]\n",
      "03/09/2018 04:27:32 PM: [ Loading model /home/ubuntu/spacework/DrQA/data/reader/multitask.mdl ]\n",
      "03/09/2018 04:28:14 PM: [ Initializing tokenizers and document retrievers... ]\n",
      "03/09/2018 04:28:15 PM: [ Processing 1 queries... ]\n",
      "03/09/2018 04:28:15 PM: [ Retrieving top 10 docs... ]\n",
      "03/09/2018 04:28:18 PM: [ Reading 10 paragraphs... ]\n",
      "/home/ubuntu/spacework/DrQA/drqa/reader/layers.py:209: UserWarning: Implicit dimension choice for softmax has been deprecated. Change the call to include dim=X as an argument.\n",
      "  alpha_flat = F.softmax(scores.view(-1, y.size(1)))\n",
      "/home/ubuntu/spacework/DrQA/drqa/reader/layers.py:280: UserWarning: Implicit dimension choice for softmax has been deprecated. Change the call to include dim=X as an argument.\n",
      "  alpha = F.softmax(scores)\n",
      "03/09/2018 04:28:20 PM: [ Processed 1 queries in 4.9277 (s) ]\n"
     ]
    },
    {
     "name": "stdout",
     "output_type": "stream",
     "text": [
      "Top Predictions:\n",
      "+------+-------------+-----+--------------+-----------+\n",
      "| Rank |    Answer   | Doc | Answer Score | Doc Score |\n",
      "+------+-------------+-----+--------------+-----------+\n",
      "|  1   | 25 May 2020 | 558 |  9.963e+07   |   14.086  |\n",
      "|  2   | 25 May 2018 | 391 |  8.9556e+07  |   14.086  |\n",
      "|  3   |     2018    | 565 |  8.1301e+07  |   14.086  |\n",
      "+------+-------------+-----+--------------+-----------+\n",
      "\n",
      "Contexts:\n",
      "[ Doc = 558 ]\n",
      "Article 97-Commission reports1.   By \u001b[1m\u001b[32m25 May 2020\u001b[0m and every four years thereafter, the Commission shall submit a report on the evaluation and review of this Regulation to the European Parliament and to the Council. The reports shall be made public.\n",
      "\n",
      "[ Doc = 391 ]\n",
      "Article 51-Supervisory authority4.   Each Member State shall notify to the Commission the provisions of its law which it adopts pursuant to this Chapter, by \u001b[1m\u001b[32m25 May 2018\u001b[0m and, without delay, any subsequent amendment affecting them.\n",
      "\n",
      "[ Doc = 565 ]\n",
      "Article 99-Entry into force and application2.   It shall apply from 25 May \u001b[1m\u001b[32m2018\u001b[0m.\n",
      "\n",
      "{'answer': '25 May 2020', 'docid': '558', 'docscore': 99630016.0, 'answerscore': 14.08614864197612, 'doc': 'Article 97-Commission reports1.\\xa0\\xa0\\xa0By \\x1b[1m\\x1b[32m25 May 2020\\x1b[0m and every four years thereafter, the Commission shall submit a report on the evaluation and review of this Regulation to the European Parliament and to the Council. The reports shall be made public.'}\n",
      "{'answer': '25 May 2018', 'docid': '391', 'docscore': 89555952.0, 'answerscore': 14.08614864197612, 'doc': 'Article 51-Supervisory authority4.\\xa0\\xa0\\xa0Each Member State shall notify to the Commission the provisions of its law which it adopts pursuant to this Chapter, by \\x1b[1m\\x1b[32m25 May 2018\\x1b[0m and, without delay, any subsequent amendment affecting them.'}\n",
      "{'answer': '2018', 'docid': '565', 'docscore': 81301072.0, 'answerscore': 14.08614864197612, 'doc': 'Article 99-Entry into force and application2.\\xa0\\xa0\\xa0It shall apply from 25 May \\x1b[1m\\x1b[32m2018\\x1b[0m.'}\n"
     ]
    },
    {
     "data": {
      "text/plain": [
       "[{'answer': '25 May 2020',\n",
       "  'answerscore': 14.08614864197612,\n",
       "  'doc': 'Article 97-Commission reports1.\\xa0\\xa0\\xa0By \\x1b[1m\\x1b[32m25 May 2020\\x1b[0m and every four years thereafter, the Commission shall submit a report on the evaluation and review of this Regulation to the European Parliament and to the Council. The reports shall be made public.',\n",
       "  'docid': '558',\n",
       "  'docscore': 99630016.0},\n",
       " {'answer': '25 May 2018',\n",
       "  'answerscore': 14.08614864197612,\n",
       "  'doc': 'Article 51-Supervisory authority4.\\xa0\\xa0\\xa0Each Member State shall notify to the Commission the provisions of its law which it adopts pursuant to this Chapter, by \\x1b[1m\\x1b[32m25 May 2018\\x1b[0m and, without delay, any subsequent amendment affecting them.',\n",
       "  'docid': '391',\n",
       "  'docscore': 89555952.0},\n",
       " {'answer': '2018',\n",
       "  'answerscore': 14.08614864197612,\n",
       "  'doc': 'Article 99-Entry into force and application2.\\xa0\\xa0\\xa0It shall apply from 25 May \\x1b[1m\\x1b[32m2018\\x1b[0m.',\n",
       "  'docid': '565',\n",
       "  'docscore': 81301072.0}]"
      ]
     },
     "execution_count": 2,
     "metadata": {},
     "output_type": "execute_result"
    }
   ],
   "source": [
    "my_process = Process()\n",
    "my_process.process('25 may')"
   ]
  },
  {
   "cell_type": "code",
   "execution_count": 3,
   "metadata": {},
   "outputs": [
    {
     "name": "stderr",
     "output_type": "stream",
     "text": [
      "03/09/2018 04:28:52 PM: [ CUDA enabled (GPU -1) ]\n",
      "03/09/2018 04:28:52 PM: [ CUDA enabled (GPU -1) ]\n",
      "03/09/2018 04:28:52 PM: [ Processing 1 queries... ]\n",
      "03/09/2018 04:28:52 PM: [ Processing 1 queries... ]\n",
      "03/09/2018 04:28:52 PM: [ Retrieving top 10 docs... ]\n",
      "03/09/2018 04:28:52 PM: [ Retrieving top 10 docs... ]\n"
     ]
    },
    {
     "name": "stdout",
     "output_type": "stream",
     "text": [
      "retriever_model_arg: /home/ubuntu/spacework/DrQA/data/gdpr/gdpr_all_en_articles-tfidf-ngram=2-hash=16777216-tokenizer=simple.npz\n",
      "DrQA: <drqa.pipeline.drqa.DrQA object at 0x7f8b3b726f98>\n"
     ]
    },
    {
     "name": "stderr",
     "output_type": "stream",
     "text": [
      "03/09/2018 04:28:52 PM: [ Reading 11 paragraphs... ]\n",
      "03/09/2018 04:28:52 PM: [ Reading 11 paragraphs... ]\n",
      "/home/ubuntu/spacework/DrQA/drqa/reader/layers.py:209: UserWarning: Implicit dimension choice for softmax has been deprecated. Change the call to include dim=X as an argument.\n",
      "  alpha_flat = F.softmax(scores.view(-1, y.size(1)))\n",
      "/home/ubuntu/spacework/DrQA/drqa/reader/layers.py:280: UserWarning: Implicit dimension choice for softmax has been deprecated. Change the call to include dim=X as an argument.\n",
      "  alpha = F.softmax(scores)\n",
      "03/09/2018 04:28:53 PM: [ Processed 1 queries in 1.0234 (s) ]\n",
      "03/09/2018 04:28:53 PM: [ Processed 1 queries in 1.0234 (s) ]\n"
     ]
    },
    {
     "name": "stdout",
     "output_type": "stream",
     "text": [
      "Top Predictions:\n",
      "+------+-------------------------------------------------------+-----+--------------+-----------+\n",
      "| Rank |                         Answer                        | Doc | Answer Score | Doc Score |\n",
      "+------+-------------------------------------------------------+-----+--------------+-----------+\n",
      "|  1   |                           c                           | 405 |  5.9739e+07  |   7.217   |\n",
      "|  2   | services which, pursuant to Union or Member State law | 158 |    2427.4    |   7.217   |\n",
      "|  3   |                    proportionality                    |  4  |    1854.6    |   7.217   |\n",
      "+------+-------------------------------------------------------+-----+--------------+-----------+\n",
      "\n",
      "Contexts:\n",
      "[ Doc = 405 ]\n",
      "Article 55-Competence2.   Where processing is carried out by public authorities or private bodies acting on the basis of point (\u001b[1m\u001b[32mc\u001b[0m) or (e) of Article 6(1), the supervisory authority of the Member State concerned shall be competent. In such cases Article 56 does not apply.\n",
      "\n",
      "[ Doc = 158 ]\n",
      "Where personal data are processed for archiving purposes, this Regulation should also apply to that processing, bearing in mind that this Regulation should not apply to deceased persons. Public authorities or public or private bodies that hold records of public interest should be \u001b[1m\u001b[32mservices which, pursuant to Union or Member State law\u001b[0m, have a legal obligation to acquire, preserve, appraise, arrange, describe, communicate, promote, disseminate and provide access to records of enduring value for general public interest. Member States should also be authorised to provide for the further processing of personal data for archiving purposes, for example with a view to providing specific information related to the political behaviour under former totalitarian state regimes, genocide, crimes against humanity, in particular the Holocaust, or war crimes.\n",
      "\n",
      "[ Doc = 4 ]\n",
      "The processing of personal data should be designed to serve mankind. The right to the protection of personal data is not an absolute right; it must be considered in relation to its function in society and be balanced against other fundamental rights, in accordance with the principle of \u001b[1m\u001b[32mproportionality\u001b[0m. This Regulation respects all fundamental rights and observes the freedoms and principles recognised in the Charter as enshrined in the Treaties, in particular the respect for private and family life, home and communications, the protection of personal data, freedom of thought, conscience and religion, freedom of expression and information, freedom to conduct a business, the right to an effective remedy and to a fair trial, and cultural, religious and linguistic diversity.\n",
      "\n",
      "{'answer': 'c', 'docid': '405', 'docscore': 59738660.0, 'answerscore': 7.216982612726302, 'doc': 'Article 55-Competence2.\\xa0\\xa0\\xa0Where processing is carried out by public authorities or private bodies acting on the basis of point\\xa0(\\x1b[1m\\x1b[32mc\\x1b[0m) or (e) of Article 6(1), the supervisory authority of the Member\\xa0State concerned shall be competent. In such cases Article 56 does not apply.'}\n",
      "{'answer': 'services which, pursuant to Union or Member State law', 'docid': '158', 'docscore': 2427.419677734375, 'answerscore': 7.216982612726302, 'doc': 'Where personal data are processed for archiving purposes, this Regulation should also apply to that processing, bearing in mind that this Regulation should not apply to deceased persons. Public authorities or public or private bodies that hold records of public interest should be \\x1b[1m\\x1b[32mservices which, pursuant to Union or Member State law\\x1b[0m, have a legal obligation to acquire, preserve, appraise, arrange, describe, communicate, promote, disseminate and provide access to records of enduring value for general public interest. Member\\xa0States should also be authorised to provide for the further processing of personal data for archiving purposes, for example with a view to providing specific information related to the political behaviour under former totalitarian state regimes, genocide, crimes against humanity, in particular the Holocaust, or war crimes.'}\n",
      "{'answer': 'proportionality', 'docid': '4', 'docscore': 1854.6337890625, 'answerscore': 7.216982612726302, 'doc': 'The processing of personal data should be designed to serve mankind. The right to the protection of personal data is not an absolute right; it must be considered in relation to its function in society and be balanced against other fundamental rights, in accordance with the principle of \\x1b[1m\\x1b[32mproportionality\\x1b[0m. This Regulation respects all fundamental rights and observes the freedoms and principles recognised in the Charter as enshrined in the Treaties, in particular the respect for private and family life, home and communications, the protection of personal data, freedom of thought, conscience and religion, freedom of expression and information, freedom to conduct a business, the right to an effective remedy and to a fair trial, and cultural, religious and linguistic diversity.'}\n"
     ]
    },
    {
     "data": {
      "text/plain": [
       "[{'answer': 'c',\n",
       "  'answerscore': 7.216982612726302,\n",
       "  'doc': 'Article 55-Competence2.\\xa0\\xa0\\xa0Where processing is carried out by public authorities or private bodies acting on the basis of point\\xa0(\\x1b[1m\\x1b[32mc\\x1b[0m) or (e) of Article 6(1), the supervisory authority of the Member\\xa0State concerned shall be competent. In such cases Article 56 does not apply.',\n",
       "  'docid': '405',\n",
       "  'docscore': 59738660.0},\n",
       " {'answer': 'services which, pursuant to Union or Member State law',\n",
       "  'answerscore': 7.216982612726302,\n",
       "  'doc': 'Where personal data are processed for archiving purposes, this Regulation should also apply to that processing, bearing in mind that this Regulation should not apply to deceased persons. Public authorities or public or private bodies that hold records of public interest should be \\x1b[1m\\x1b[32mservices which, pursuant to Union or Member State law\\x1b[0m, have a legal obligation to acquire, preserve, appraise, arrange, describe, communicate, promote, disseminate and provide access to records of enduring value for general public interest. Member\\xa0States should also be authorised to provide for the further processing of personal data for archiving purposes, for example with a view to providing specific information related to the political behaviour under former totalitarian state regimes, genocide, crimes against humanity, in particular the Holocaust, or war crimes.',\n",
       "  'docid': '158',\n",
       "  'docscore': 2427.419677734375},\n",
       " {'answer': 'proportionality',\n",
       "  'answerscore': 7.216982612726302,\n",
       "  'doc': 'The processing of personal data should be designed to serve mankind. The right to the protection of personal data is not an absolute right; it must be considered in relation to its function in society and be balanced against other fundamental rights, in accordance with the principle of \\x1b[1m\\x1b[32mproportionality\\x1b[0m. This Regulation respects all fundamental rights and observes the freedoms and principles recognised in the Charter as enshrined in the Treaties, in particular the respect for private and family life, home and communications, the protection of personal data, freedom of thought, conscience and religion, freedom of expression and information, freedom to conduct a business, the right to an effective remedy and to a fair trial, and cultural, religious and linguistic diversity.',\n",
       "  'docid': '4',\n",
       "  'docscore': 1854.6337890625}]"
      ]
     },
     "execution_count": 3,
     "metadata": {},
     "output_type": "execute_result"
    }
   ],
   "source": [
    "my_process.process('data private')"
   ]
  },
  {
   "cell_type": "code",
   "execution_count": null,
   "metadata": {},
   "outputs": [],
   "source": []
  }
 ],
 "metadata": {
  "kernelspec": {
   "display_name": "Python 3",
   "language": "python",
   "name": "python3"
  },
  "language_info": {
   "codemirror_mode": {
    "name": "ipython",
    "version": 3
   },
   "file_extension": ".py",
   "mimetype": "text/x-python",
   "name": "python",
   "nbconvert_exporter": "python",
   "pygments_lexer": "ipython3",
   "version": "3.6.4"
  }
 },
 "nbformat": 4,
 "nbformat_minor": 2
}
