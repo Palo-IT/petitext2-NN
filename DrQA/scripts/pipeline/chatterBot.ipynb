{
 "cells": [
  {
   "cell_type": "code",
   "execution_count": 1,
   "metadata": {},
   "outputs": [
    {
     "name": "stdout",
     "output_type": "stream",
     "text": [
      "./templates/question.html crée\n"
     ]
    }
   ],
   "source": [
    "html = u\"\"\"<html>\n",
    "   <body>\n",
    "   \n",
    "      <form action = \"http://54.37.20.249:5000/result\" method = \"POST\">\n",
    "         <p>Question <input type=\"text\" name=\"Question\" size=\"80\" /></p>\n",
    "         <p><input type = \"submit\" value = \"submit\" /></p>\n",
    "      </form>\n",
    "      \n",
    "   </body>\n",
    "</html>\"\"\"\n",
    "\n",
    "nameFile = \"./templates/question.html\"\n",
    "g = open (nameFile, \"wb\")\n",
    "\n",
    "\n",
    "li = html.encode('utf-8')\n",
    "g.write(li)\n",
    "g.close()\n",
    "\n",
    "print (nameFile + u\" crée\")"
   ]
  },
  {
   "cell_type": "code",
   "execution_count": 2,
   "metadata": {},
   "outputs": [
    {
     "name": "stdout",
     "output_type": "stream",
     "text": [
      "./templates/result.html crée\n"
     ]
    }
   ],
   "source": [
    "html =u\"\"\"<!doctype html>\n",
    "<html>\n",
    "   <body>\n",
    "   \n",
    "      <table border = 1>\n",
    "         {% for key, value in result %}\n",
    "         \n",
    "            <tr>\n",
    "               <th> {{ key }} </th>\n",
    "               <td> {{ value }} </td>\n",
    "            </tr>\n",
    "            \n",
    "         {% endfor %}\n",
    "      </table>\n",
    "      \n",
    "   </body>\"\"\"\n",
    "\n",
    "nameFile = \"./templates/result.html\"\n",
    "g = open (nameFile, \"wb\")\n",
    "\n",
    "\n",
    "li = html.encode('utf-8')\n",
    "g.write(li)\n",
    "g.close()\n",
    "\n",
    "print (nameFile + u\" crée\")"
   ]
  },
  {
   "cell_type": "code",
   "execution_count": 3,
   "metadata": {},
   "outputs": [],
   "source": [
    "#%save chatterBot_2.py _ih [1]"
   ]
  },
  {
   "cell_type": "code",
   "execution_count": 1,
   "metadata": {},
   "outputs": [
    {
     "ename": "OSError",
     "evalue": "[Errno 98] Address already in use",
     "output_type": "error",
     "traceback": [
      "\u001b[0;31m---------------------------------------------------------------------------\u001b[0m",
      "\u001b[0;31mOSError\u001b[0m                                   Traceback (most recent call last)",
      "\u001b[0;32m<ipython-input-1-7517104bf74a>\u001b[0m in \u001b[0;36m<module>\u001b[0;34m()\u001b[0m\n\u001b[1;32m     58\u001b[0m \u001b[0;34m\u001b[0m\u001b[0m\n\u001b[1;32m     59\u001b[0m     \u001b[0;31m#print (\"debut\")\u001b[0m\u001b[0;34m\u001b[0m\u001b[0;34m\u001b[0m\u001b[0m\n\u001b[0;32m---> 60\u001b[0;31m     \u001b[0mapp\u001b[0m\u001b[0;34m.\u001b[0m\u001b[0mrun\u001b[0m\u001b[0;34m(\u001b[0m\u001b[0mhost\u001b[0m\u001b[0;34m=\u001b[0m\u001b[0;34m'54.37.20.249'\u001b[0m\u001b[0;34m,\u001b[0m\u001b[0mport\u001b[0m\u001b[0;34m=\u001b[0m\u001b[0;36m5000\u001b[0m\u001b[0;34m,\u001b[0m\u001b[0mdebug\u001b[0m\u001b[0;34m=\u001b[0m\u001b[0;32mTrue\u001b[0m\u001b[0;34m)\u001b[0m\u001b[0;34m\u001b[0m\u001b[0m\n\u001b[0m\u001b[1;32m     61\u001b[0m \u001b[0;34m\u001b[0m\u001b[0m\n",
      "\u001b[0;32m~/anaconda3/lib/python3.6/site-packages/flask/app.py\u001b[0m in \u001b[0;36mrun\u001b[0;34m(self, host, port, debug, **options)\u001b[0m\n\u001b[1;32m    839\u001b[0m         \u001b[0moptions\u001b[0m\u001b[0;34m.\u001b[0m\u001b[0msetdefault\u001b[0m\u001b[0;34m(\u001b[0m\u001b[0;34m'use_debugger'\u001b[0m\u001b[0;34m,\u001b[0m \u001b[0mself\u001b[0m\u001b[0;34m.\u001b[0m\u001b[0mdebug\u001b[0m\u001b[0;34m)\u001b[0m\u001b[0;34m\u001b[0m\u001b[0m\n\u001b[1;32m    840\u001b[0m         \u001b[0;32mtry\u001b[0m\u001b[0;34m:\u001b[0m\u001b[0;34m\u001b[0m\u001b[0m\n\u001b[0;32m--> 841\u001b[0;31m             \u001b[0mrun_simple\u001b[0m\u001b[0;34m(\u001b[0m\u001b[0mhost\u001b[0m\u001b[0;34m,\u001b[0m \u001b[0mport\u001b[0m\u001b[0;34m,\u001b[0m \u001b[0mself\u001b[0m\u001b[0;34m,\u001b[0m \u001b[0;34m**\u001b[0m\u001b[0moptions\u001b[0m\u001b[0;34m)\u001b[0m\u001b[0;34m\u001b[0m\u001b[0m\n\u001b[0m\u001b[1;32m    842\u001b[0m         \u001b[0;32mfinally\u001b[0m\u001b[0;34m:\u001b[0m\u001b[0;34m\u001b[0m\u001b[0m\n\u001b[1;32m    843\u001b[0m             \u001b[0;31m# reset the first request information if the development server\u001b[0m\u001b[0;34m\u001b[0m\u001b[0;34m\u001b[0m\u001b[0m\n",
      "\u001b[0;32m~/anaconda3/lib/python3.6/site-packages/werkzeug/serving.py\u001b[0m in \u001b[0;36mrun_simple\u001b[0;34m(hostname, port, application, use_reloader, use_debugger, use_evalex, extra_files, reloader_interval, reloader_type, threaded, processes, request_handler, static_files, passthrough_errors, ssl_context)\u001b[0m\n\u001b[1;32m    793\u001b[0m             \u001b[0ms\u001b[0m \u001b[0;34m=\u001b[0m \u001b[0msocket\u001b[0m\u001b[0;34m.\u001b[0m\u001b[0msocket\u001b[0m\u001b[0;34m(\u001b[0m\u001b[0maddress_family\u001b[0m\u001b[0;34m,\u001b[0m \u001b[0msocket\u001b[0m\u001b[0;34m.\u001b[0m\u001b[0mSOCK_STREAM\u001b[0m\u001b[0;34m)\u001b[0m\u001b[0;34m\u001b[0m\u001b[0m\n\u001b[1;32m    794\u001b[0m             \u001b[0ms\u001b[0m\u001b[0;34m.\u001b[0m\u001b[0msetsockopt\u001b[0m\u001b[0;34m(\u001b[0m\u001b[0msocket\u001b[0m\u001b[0;34m.\u001b[0m\u001b[0mSOL_SOCKET\u001b[0m\u001b[0;34m,\u001b[0m \u001b[0msocket\u001b[0m\u001b[0;34m.\u001b[0m\u001b[0mSO_REUSEADDR\u001b[0m\u001b[0;34m,\u001b[0m \u001b[0;36m1\u001b[0m\u001b[0;34m)\u001b[0m\u001b[0;34m\u001b[0m\u001b[0m\n\u001b[0;32m--> 795\u001b[0;31m             \u001b[0ms\u001b[0m\u001b[0;34m.\u001b[0m\u001b[0mbind\u001b[0m\u001b[0;34m(\u001b[0m\u001b[0mget_sockaddr\u001b[0m\u001b[0;34m(\u001b[0m\u001b[0mhostname\u001b[0m\u001b[0;34m,\u001b[0m \u001b[0mport\u001b[0m\u001b[0;34m,\u001b[0m \u001b[0maddress_family\u001b[0m\u001b[0;34m)\u001b[0m\u001b[0;34m)\u001b[0m\u001b[0;34m\u001b[0m\u001b[0m\n\u001b[0m\u001b[1;32m    796\u001b[0m             \u001b[0;32mif\u001b[0m \u001b[0mhasattr\u001b[0m\u001b[0;34m(\u001b[0m\u001b[0ms\u001b[0m\u001b[0;34m,\u001b[0m \u001b[0;34m'set_inheritable'\u001b[0m\u001b[0;34m)\u001b[0m\u001b[0;34m:\u001b[0m\u001b[0;34m\u001b[0m\u001b[0m\n\u001b[1;32m    797\u001b[0m                 \u001b[0ms\u001b[0m\u001b[0;34m.\u001b[0m\u001b[0mset_inheritable\u001b[0m\u001b[0;34m(\u001b[0m\u001b[0;32mTrue\u001b[0m\u001b[0;34m)\u001b[0m\u001b[0;34m\u001b[0m\u001b[0m\n",
      "\u001b[0;31mOSError\u001b[0m: [Errno 98] Address already in use"
     ]
    }
   ],
   "source": [
    "import copy\n",
    "from flask import Flask, render_template, request\n",
    "from interactive_gdpr import Process\n",
    "\n",
    "app = Flask(__name__)\n",
    "\n",
    "my_process = Process()\n",
    "\n",
    "\n",
    "def process2 (question , \n",
    "              nombreReponse = 3) :\n",
    "    dico = {'answer': \"answer 1\",\n",
    "            'docid' : 215,\n",
    "            'docscore' : 1.234,\n",
    "            'answerscore': 12.345,\n",
    "            'doc' : \"Ceci est mon doc \",\n",
    "            }\n",
    "    r = []\n",
    "    for i in range(0, nombreReponse) :\n",
    "        d = copy.copy (dico)\n",
    "        d[\"answer\"] = \"Answer \"+str(i+1)\n",
    "        d['docid'] += i+1\n",
    "        r.append(d)\n",
    "        continue\n",
    "    return r\n",
    "        \n",
    "\n",
    "@app.route('/')\n",
    "def student():\n",
    "   return render_template('question.html')\n",
    "\n",
    "@app.route('/result',methods = ['POST', 'GET'])\n",
    "def result():\n",
    "   if request.method == 'POST':\n",
    "      question = request.form [\"Question\"]\n",
    "      \n",
    "      reponse = my_process.process (question)\n",
    "      resultat = [(\"Question\" , question),]\n",
    "      if len (reponse) > 0 :\n",
    "            \n",
    "          reponseId = 1\n",
    "          for dico in reponse:\n",
    "                resultat.append (   ('Answer '+str(reponseId)+\"    \" , \"#\"*120  ) )\n",
    "                resultat.append (   ('Answer ' , str(dico [\"answer\"] ) ) )\n",
    "                resultat.append (   ('Doc ID ' ,str (dico [\"docid\"])  ) )\n",
    "                resultat.append (   ('Doc score ' ,str (dico [\"docscore\"])  ) )\n",
    "                resultat.append (   ('Answer score ' ,str (dico [\"answerscore\"])  ) )\n",
    "                resultat.append (   ('Document  ' ,str (dico [\"doc\"])  ) )\n",
    "                reponseId += 1\n",
    "                continue\n",
    "      else:\n",
    "        resultat.append (   ('Houps ' , \"no answer !!!!!!!!!!!!!!!\"  ) )\n",
    "        \n",
    "      \n",
    "      return render_template(\"result.html\",result = resultat)\n",
    "\n",
    "if __name__ == '__main__':\n",
    "    \n",
    "    #print (\"debut\")\n",
    "    app.run(host='54.37.20.249',port=5000,debug=True)\n",
    "    "
   ]
  },
  {
   "cell_type": "code",
   "execution_count": null,
   "metadata": {},
   "outputs": [],
   "source": []
  },
  {
   "cell_type": "code",
   "execution_count": null,
   "metadata": {},
   "outputs": [],
   "source": []
  },
  {
   "cell_type": "code",
   "execution_count": null,
   "metadata": {},
   "outputs": [],
   "source": []
  }
 ],
 "metadata": {
  "kernelspec": {
   "display_name": "Python 3",
   "language": "python",
   "name": "python3"
  },
  "language_info": {
   "codemirror_mode": {
    "name": "ipython",
    "version": 3
   },
   "file_extension": ".py",
   "mimetype": "text/x-python",
   "name": "python",
   "nbconvert_exporter": "python",
   "pygments_lexer": "ipython3",
   "version": "3.6.4"
  }
 },
 "nbformat": 4,
 "nbformat_minor": 2
}
