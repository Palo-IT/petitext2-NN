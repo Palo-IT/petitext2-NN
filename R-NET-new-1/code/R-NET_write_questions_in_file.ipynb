{
 "cells": [
  {
   "cell_type": "code",
   "execution_count": 1,
   "metadata": {},
   "outputs": [],
   "source": [
    "import json\n",
    "from tqdm import tqdm"
   ]
  },
  {
   "cell_type": "code",
   "execution_count": 2,
   "metadata": {},
   "outputs": [],
   "source": [
    "def write_questions_in_file(filename, data_type):\n",
    "    print('Write questions in a file for {} examples'.format(data_type))\n",
    "    \n",
    "    total_question = 0\n",
    "    questions_file = open('data/questions/{}_questions.txt'.format(data_type), 'w')\n",
    "    \n",
    "    with open(filename, 'r', encoding='utf-8') as fh:\n",
    "        source = json.load(fh)\n",
    "        for article in tqdm(source[\"data\"]):\n",
    "            for para in article[\"paragraphs\"]:\n",
    "                for qa in para[\"qas\"]:\n",
    "                    \n",
    "                    total_question += 1\n",
    "                    question = qa[\"question\"].replace(\"''\",'\" ').replace(\"``\", '\" ')\n",
    "                    \n",
    "                    questions_file.write(question+'\\n')\n",
    "                    \n",
    "    return total_question"
   ]
  },
  {
   "cell_type": "code",
   "execution_count": 3,
   "metadata": {},
   "outputs": [
    {
     "name": "stdout",
     "output_type": "stream",
     "text": [
      "Write questions in a file for test examples\n"
     ]
    },
    {
     "name": "stderr",
     "output_type": "stream",
     "text": [
      "100%|██████████| 48/48 [00:00<00:00, 1433.98it/s]\n",
      "  0%|          | 0/48 [00:00<?, ?it/s]"
     ]
    },
    {
     "name": "stdout",
     "output_type": "stream",
     "text": [
      "total_question_test: 10570\n",
      "Write questions in a file for dev examples\n"
     ]
    },
    {
     "name": "stderr",
     "output_type": "stream",
     "text": [
      "100%|██████████| 48/48 [00:00<00:00, 1208.93it/s]\n"
     ]
    },
    {
     "name": "stdout",
     "output_type": "stream",
     "text": [
      "total_question_dev: 10570\n",
      "Write questions in a file for train examples\n"
     ]
    },
    {
     "name": "stderr",
     "output_type": "stream",
     "text": [
      "100%|██████████| 442/442 [00:00<00:00, 1487.05it/s]\n"
     ]
    },
    {
     "name": "stdout",
     "output_type": "stream",
     "text": [
      "total_question_train: 87599\n"
     ]
    }
   ],
   "source": [
    "filename_train = 'data/squad/train-v1.1.json'\n",
    "data_type_train = \"train\"\n",
    "\n",
    "filename_dev = 'data/squad/dev-v1.1.json'\n",
    "data_type_dev = \"dev\"\n",
    "\n",
    "filename_test = 'data/squad/dev-v1.1.json'\n",
    "data_type_test = \"test\"\n",
    "\n",
    "total_question_test = write_questions_in_file(filename_test, data_type_test)\n",
    "print('total_question_test:', total_question_test)\n",
    "\n",
    "total_question_dev = write_questions_in_file(filename_dev, data_type_dev)\n",
    "print('total_question_dev:',total_question_dev)\n",
    "\n",
    "total_question_train = write_questions_in_file(filename_train, data_type_train)\n",
    "print('total_question_train:',total_question_train)"
   ]
  }
 ],
 "metadata": {
  "kernelspec": {
   "display_name": "Python 3",
   "language": "python",
   "name": "python3"
  },
  "language_info": {
   "codemirror_mode": {
    "name": "ipython",
    "version": 3
   },
   "file_extension": ".py",
   "mimetype": "text/x-python",
   "name": "python",
   "nbconvert_exporter": "python",
   "pygments_lexer": "ipython3",
   "version": "3.6.5"
  }
 },
 "nbformat": 4,
 "nbformat_minor": 2
}
